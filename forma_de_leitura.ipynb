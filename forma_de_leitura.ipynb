{
  "nbformat": 4,
  "nbformat_minor": 0,
  "metadata": {
    "colab": {
      "provenance": [],
      "authorship_tag": "ABX9TyMnh3/g2K7gIGFn2WF82i39",
      "include_colab_link": true
    },
    "kernelspec": {
      "name": "python3",
      "display_name": "Python 3"
    },
    "language_info": {
      "name": "python"
    }
  },
  "cells": [
    {
      "cell_type": "markdown",
      "metadata": {
        "id": "view-in-github",
        "colab_type": "text"
      },
      "source": [
        "<a href=\"https://colab.research.google.com/github/miguel-lopes-roque/soma/blob/main/forma_de_leitura.ipynb\" target=\"_parent\"><img src=\"https://colab.research.google.com/assets/colab-badge.svg\" alt=\"Open In Colab\"/></a>"
      ]
    },
    {
      "cell_type": "code",
      "execution_count": null,
      "metadata": {
        "id": "B6Zki16i1LzQ"
      },
      "outputs": [],
      "source": [
        "#coding: utf-8\n",
        "#https://docente.ifsc.edu.br/louis.augusto/CursoPython/2024/AulasPython2024.html\n",
        "\n",
        "def forma1_leitura():\n",
        "  vet = input().split()\n",
        "  tamanho_vet = len(vet)\n",
        "  for i in range(tamanho_vet):\n",
        "    vet[i] = int(vet[i])\n",
        "    print(vet)\n",
        "\n",
        "#2a forma de leitura - equivalente a 1a\n",
        "def forma2_leitura():\n",
        "vet  =list(map(int, input().split()))\n",
        "#print(vet)\n",
        "tamanho_vet = len(vet):\n",
        "for i in range(tamanho_vet):\n",
        "  #vet[i] = 3*vet[i]\n",
        "  vet[i]*=3\n",
        "  print(vet[i], end = ' ')\n",
        "  print()\n",
        "\n",
        "  #forma otimizada\n",
        "   import array as ar\n",
        "  def forma3_leitura_array():\n",
        "    vet = ar.array('i',map(int, input))\n",
        "    tamanho_vet = len(vet)\n",
        "    for i in range(tamanho_vet):\n",
        "  #vet[i] = 3*vet[i]\n",
        "    vet[i]*=3\n",
        "    print(vet[i], end = ' ')\n",
        "    print()\n",
        "\n"
      ]
    }
  ]
}