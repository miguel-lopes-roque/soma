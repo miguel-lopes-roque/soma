{
  "nbformat": 4,
  "nbformat_minor": 0,
  "metadata": {
    "colab": {
      "provenance": [],
      "authorship_tag": "ABX9TyMJA6JOEAH1SH4Q4qrdpG0O",
      "include_colab_link": true
    },
    "kernelspec": {
      "name": "python3",
      "display_name": "Python 3"
    },
    "language_info": {
      "name": "python"
    }
  },
  "cells": [
    {
      "cell_type": "markdown",
      "metadata": {
        "id": "view-in-github",
        "colab_type": "text"
      },
      "source": [
        "<a href=\"https://colab.research.google.com/github/miguel-lopes-roque/soma/blob/main/forma_de_leitura.ipynb\" target=\"_parent\"><img src=\"https://colab.research.google.com/assets/colab-badge.svg\" alt=\"Open In Colab\"/></a>"
      ]
    },
    {
      "cell_type": "code",
      "execution_count": 6,
      "metadata": {
        "colab": {
          "base_uri": "https://localhost:8080/"
        },
        "id": "B6Zki16i1LzQ",
        "outputId": "44eae1f5-d23c-4d37-db20-ab1117da9309"
      },
      "outputs": [
        {
          "output_type": "stream",
          "name": "stdout",
          "text": [
            " 1  2  3  4  5\n",
            "3 6 9 12 15 \n"
          ]
        }
      ],
      "source": [
        "#coding: utf-8\n",
        "#https://docente.ifsc.edu.br/louis.augusto/CursoPython/2024/AulasPython2024.html\n",
        "\n",
        "def forma1_leitura():\n",
        "  vet = input().split()\n",
        "  tamanho_vet = len(vet)\n",
        "  for i in range(tamanho_vet):\n",
        "      vet[i] = int(vet[i])\n",
        "      print(vet)\n",
        "\n",
        "#2a forma de leitura - equivalente a 1a\n",
        "def forma2_leitura():\n",
        "  vet  = list(map(int, input().split()))\n",
        "  print(vet)\n",
        "  for i in range(tamanho_vet):\n",
        "    #vet[i] = 3*vet[i]\n",
        "    vet[i]*=3\n",
        "    print(vet[i], end = ' ')\n",
        "  print()\n",
        "\n",
        "#forma otimizada\n",
        "import array as ar\n",
        "def forma3_leitura_array():\n",
        "    vet = ar.array('i',map(int, input().split()))\n",
        "    tamanho_vet = len(vet)\n",
        "    for i in range(tamanho_vet):\n",
        "        #vet[i] = 3*vet[i]\n",
        "        vet[i]*=3\n",
        "        print(vet[i], end = ' ')\n",
        "    print()\n",
        "\n",
        "if __name__ ==\"__main__\":\n",
        "  #forma1_leitura()\n",
        "  #forma3_leitura()\n",
        "  forma3_leitura_array()\n",
        "\n",
        "\n"
      ]
    }
  ]
}