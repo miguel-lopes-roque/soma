{
  "nbformat": 4,
  "nbformat_minor": 0,
  "metadata": {
    "colab": {
      "provenance": [],
      "authorship_tag": "ABX9TyMWmy2T9csEAg6ko4HGdy/B",
      "include_colab_link": true
    },
    "kernelspec": {
      "name": "python3",
      "display_name": "Python 3"
    },
    "language_info": {
      "name": "python"
    }
  },
  "cells": [
    {
      "cell_type": "markdown",
      "metadata": {
        "id": "view-in-github",
        "colab_type": "text"
      },
      "source": [
        "<a href=\"https://colab.research.google.com/github/miguel-lopes-roque/soma/blob/main/remocao_dado(vet).ipynb\" target=\"_parent\"><img src=\"https://colab.research.google.com/assets/colab-badge.svg\" alt=\"Open In Colab\"/></a>"
      ]
    },
    {
      "cell_type": "code",
      "execution_count": 6,
      "metadata": {
        "colab": {
          "base_uri": "https://localhost:8080/",
          "height": 108
        },
        "id": "Gfn_JiWL_9Lh",
        "outputId": "e396333f-29f6-47a9-eadb-189668877081"
      },
      "outputs": [
        {
          "output_type": "error",
          "ename": "SyntaxError",
          "evalue": "invalid syntax. Perhaps you forgot a comma? (<ipython-input-6-aa5b672d7db4>, line 14)",
          "traceback": [
            "\u001b[0;36m  File \u001b[0;32m\"<ipython-input-6-aa5b672d7db4>\"\u001b[0;36m, line \u001b[0;32m14\u001b[0m\n\u001b[0;31m    print(\"insercao no final do valor 11:\" vC)\u001b[0m\n\u001b[0m          ^\u001b[0m\n\u001b[0;31mSyntaxError\u001b[0m\u001b[0;31m:\u001b[0m invalid syntax. Perhaps you forgot a comma?\n"
          ]
        }
      ],
      "source": [
        "#coding: utf-8\n",
        "def insercao_dado():\n",
        "  vC = [1 , 3.4 , 'A' , \" IFSC \" ]\n",
        "  print(\"vetor Original:\", vC)\n",
        "  input(\"digite enter para prosseguir \")\n",
        "  vC.insert(0.56) #adiciona na posicao 0 o inteiro 56.\n",
        "\n",
        "  print(\"Insercao de 56 na posicao 0:\")\n",
        "  #input(\"digite enter para prosseguir: \")\n",
        "  vC.insert(3,'B')\n",
        "  print(\"insercao de B na posicao 3:\", vC)\n",
        "  #input(\"digite enter para prosseguir\")\n",
        "  vC.append(11)\n",
        "  print(\"insercao no final do valor 11:\" vC)\n",
        "  input(\"digite enter para prosseguir: \")\n",
        "  print(\"impressao por coluna no vetor:\")\n",
        "  for i in vC :\n",
        "    print ( i )\n",
        "  print(\"fim da funcao insercao_dado()\")\n",
        "  return vC\n",
        "def Remocao_dado(vet):\n",
        "  print(\"Vetor recebido: \", vet)\n",
        "  print(\"Elemento 'A' removido\")\n",
        "  vet.remove('A')\n",
        "  print(\"vetor alterado: \", vet)\n",
        "  input(\"digite enter para prosseguir\")\n",
        "\n",
        "  print(\"fim da funcao Remocao_dado()\")\n",
        "\n",
        "\n",
        "if __name__==\"__main__\":\n",
        "    vet = insercao_dado()\n",
        "    Remocao_dado(vet)"
      ]
    }
  ]
}